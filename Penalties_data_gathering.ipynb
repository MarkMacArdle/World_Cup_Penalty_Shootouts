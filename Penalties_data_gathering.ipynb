{
 "cells": [
  {
   "cell_type": "code",
   "execution_count": 281,
   "metadata": {
    "collapsed": true
   },
   "outputs": [],
   "source": [
    "from bs4 import BeautifulSoup as bs\n",
    "import requests\n",
    "import pandas as pd"
   ]
  },
  {
   "cell_type": "code",
   "execution_count": 282,
   "metadata": {
    "collapsed": true
   },
   "outputs": [],
   "source": [
    "url = \"https://en.wikipedia.org/wiki/List_of_FIFA_World_Cup_penalty_shoot-outs\"\n",
    "r = requests.get(url)\n",
    "soup = bs(r.content, \"lxml\")"
   ]
  },
  {
   "cell_type": "code",
   "execution_count": 283,
   "metadata": {
    "collapsed": true
   },
   "outputs": [],
   "source": [
    "t = soup.find_all('table')"
   ]
  },
  {
   "cell_type": "code",
   "execution_count": 284,
   "metadata": {},
   "outputs": [],
   "source": [
    "table = t[1]"
   ]
  },
  {
   "cell_type": "code",
   "execution_count": 285,
   "metadata": {
    "collapsed": true
   },
   "outputs": [],
   "source": [
    "rows = table.find_all('tr')"
   ]
  },
  {
   "cell_type": "code",
   "execution_count": 286,
   "metadata": {
    "collapsed": true
   },
   "outputs": [],
   "source": [
    "d = {}"
   ]
  },
  {
   "cell_type": "code",
   "execution_count": 287,
   "metadata": {},
   "outputs": [
    {
     "name": "stdout",
     "output_type": "stream",
     "text": [
      "['West Germany', 'France', 'West Germany', 'Belgium', 'Republic of Ireland', 'Argentina', 'Argentina', 'West Germany', 'Bulgaria', 'Sweden', 'Brazil', 'Argentina', 'France', 'Brazil', 'Spain', 'South Korea', 'Ukraine', 'Germany', 'Portugal', 'Italy', 'Paraguay', 'Uruguay', 'Brazil', 'Costa Rica', 'Netherlands', 'Argentina', 'Russia', 'Croatia', 'England', 'Croatia']\n"
     ]
    }
   ],
   "source": [
    "d['winners'] = []\n",
    "for row in rows:\n",
    "    cells = row.find_all('td')\n",
    "    if cells:\n",
    "        d['winners'].append(cells[0].text[1:-1]) #spliting string as plain form is '\\xa0West Germany\\n'\n",
    "\n",
    "print(d['winners'])"
   ]
  },
  {
   "cell_type": "code",
   "execution_count": 288,
   "metadata": {},
   "outputs": [
    {
     "name": "stdout",
     "output_type": "stream",
     "text": [
      "['France', 'Brazil', 'Mexico', 'Spain', 'Romania', 'Yugoslavia', 'Italy', 'England', 'Mexico', 'Romania', 'Italy', 'England', 'Italy', 'Netherlands', 'Republic of Ireland', 'Spain', '\\xa0Switzerland', 'Argentina', 'England', 'France', 'Japan', 'Ghana', 'Chile', 'Greece', 'Costa Rica', 'Netherlands', 'Spain', 'Denmark', 'Colombia', 'Russia']\n"
     ]
    }
   ],
   "source": [
    "d['losers'] = []\n",
    "for row in rows:\n",
    "    cells = row.find_all('td')\n",
    "    if cells:\n",
    "        d['losers'].append(cells[2].text[1:-1]) #spliting string as plain form is '\\xa0West Germany\\n'\n",
    "\n",
    "print(d['losers'])"
   ]
  },
  {
   "cell_type": "code",
   "execution_count": 289,
   "metadata": {},
   "outputs": [
    {
     "name": "stdout",
     "output_type": "stream",
     "text": [
      "['France', 'Brazil', 'Mexico', 'Spain', 'Romania', 'Yugoslavia', 'Italy', 'England', 'Mexico', 'Romania', 'Italy', 'England', 'Italy', 'Netherlands', 'Republic of Ireland', 'Spain', 'Switzerland', 'Argentina', 'England', 'France', 'Japan', 'Ghana', 'Chile', 'Greece', 'Costa Rica', 'Netherlands', 'Spain', 'Denmark', 'Colombia', 'Russia']\n"
     ]
    }
   ],
   "source": [
    "d['losers'][d['losers'].index('\\xa0Switzerland')] = 'Switzerland'\n",
    "print(d['losers'])"
   ]
  },
  {
   "cell_type": "code",
   "execution_count": 290,
   "metadata": {
    "collapsed": true
   },
   "outputs": [],
   "source": [
    "d['gameID'] = list(range(1, len(d['winners'])+1))"
   ]
  },
  {
   "cell_type": "code",
   "execution_count": 291,
   "metadata": {},
   "outputs": [
    {
     "name": "stdout",
     "output_type": "stream",
     "text": [
      "['3', '1', '0', '1', '0', '0', '1', '1', '1', '2', '0', '2', '0', '1', '1', '0', '0', '1', '0', '1', '0', '1', '1', '1', '0', '0', '1', '1', '1', '2']\n"
     ]
    }
   ],
   "source": [
    "#Games must have ended in a draw to get to penalties so only need one number for goals scored\n",
    "d['finalScoreGoalsEach'] = []\n",
    "for row in rows:\n",
    "    cells = row.find_all('td')\n",
    "    if cells:\n",
    "        d['finalScoreGoalsEach'].append(cells[1].text[0])\n",
    "\n",
    "print(d['finalScoreGoalsEach'])"
   ]
  },
  {
   "cell_type": "code",
   "execution_count": 292,
   "metadata": {},
   "outputs": [
    {
     "name": "stdout",
     "output_type": "stream",
     "text": [
      "{'winners': ['West Germany', 'France', 'West Germany', 'Belgium', 'Republic of Ireland', 'Argentina', 'Argentina', 'West Germany', 'Bulgaria', 'Sweden', 'Brazil', 'Argentina', 'France', 'Brazil', 'Spain', 'South Korea', 'Ukraine', 'Germany', 'Portugal', 'Italy', 'Paraguay', 'Uruguay', 'Brazil', 'Costa Rica', 'Netherlands', 'Argentina', 'Russia', 'Croatia', 'England', 'Croatia'], 'losers': ['France', 'Brazil', 'Mexico', 'Spain', 'Romania', 'Yugoslavia', 'Italy', 'England', 'Mexico', 'Romania', 'Italy', 'England', 'Italy', 'Netherlands', 'Republic of Ireland', 'Spain', 'Switzerland', 'Argentina', 'England', 'France', 'Japan', 'Ghana', 'Chile', 'Greece', 'Costa Rica', 'Netherlands', 'Spain', 'Denmark', 'Colombia', 'Russia'], 'gameID': [1, 2, 3, 4, 5, 6, 7, 8, 9, 10, 11, 12, 13, 14, 15, 16, 17, 18, 19, 20, 21, 22, 23, 24, 25, 26, 27, 28, 29, 30], 'finalScoreGoalsEach': ['3', '1', '0', '1', '0', '0', '1', '1', '1', '2', '0', '2', '0', '1', '1', '0', '0', '1', '0', '1', '0', '1', '1', '1', '0', '0', '1', '1', '1', '2']}\n"
     ]
    }
   ],
   "source": [
    "print(d)"
   ]
  },
  {
   "cell_type": "code",
   "execution_count": 293,
   "metadata": {},
   "outputs": [],
   "source": [
    "def penKickers(row, splitToKeep):\n",
    "    kickers = []\n",
    "    for i in range(len(row[1:])):\n",
    "        kicker = row[i+1].split('title=\"')[splitToKeep].split('\"')[0]\n",
    "        \n",
    "        #some names showing as \"Willian (footballer, born 1988)\" so clipping off \"(footballer...\"\n",
    "        kicker = kicker.split(' (')[0]\n",
    "        kickers.append(kicker)\n",
    "        \n",
    "    return kickers\n",
    "\n",
    "def penResults(row):\n",
    "    results = []\n",
    "    for i in range(len(row[1:])):\n",
    "        if 'Penalty scored' in row[i+1]:\n",
    "            results.append(1)\n",
    "        else:\n",
    "            results.append(0)\n",
    "    return results"
   ]
  },
  {
   "cell_type": "code",
   "execution_count": 294,
   "metadata": {},
   "outputs": [
    {
     "data": {
      "text/plain": [
       "[{'kickers': ['Manfred Kaltz',\n",
       "   'Paul Breitner',\n",
       "   'Uli Stielike',\n",
       "   'Pierre Littbarski',\n",
       "   'Karl-Heinz Rummenigge',\n",
       "   'Horst Hrubesch'],\n",
       "  'results': [1, 1, 0, 1, 1, 1]},\n",
       " {'kickers': ['Yannick Stopyra',\n",
       "   'Manuel Amoros',\n",
       "   'Bruno Bellone',\n",
       "   'Michel Platini',\n",
       "   'Luis Fernández'],\n",
       "  'results': [1, 1, 1, 0, 1]},\n",
       " {'kickers': ['Klaus Allofs',\n",
       "   'Andreas Brehme',\n",
       "   'Lothar Matthäus',\n",
       "   'Pierre Littbarski'],\n",
       "  'results': [1, 1, 1, 1]},\n",
       " {'kickers': ['Nico Claesen',\n",
       "   'Enzo Scifo',\n",
       "   'Hugo Broos',\n",
       "   'Patrick Vervoort',\n",
       "   'Leo Van der Elst'],\n",
       "  'results': [1, 1, 1, 1, 1]},\n",
       " {'kickers': ['Kevin Sheedy',\n",
       "   'Ray Houghton',\n",
       "   'Andy Townsend',\n",
       "   'Tony Cascarino',\n",
       "   \"David O'Leary\"],\n",
       "  'results': [1, 1, 1, 1, 1]},\n",
       " {'kickers': ['José Serrizuela',\n",
       "   'Jorge Burruchaga',\n",
       "   'Diego Maradona',\n",
       "   'Pedro Troglio',\n",
       "   'Gustavo Dezotti'],\n",
       "  'results': [1, 1, 0, 0, 1]},\n",
       " {'kickers': ['José Serrizuela',\n",
       "   'Jorge Burruchaga',\n",
       "   'Julio Olarticoechea',\n",
       "   'Diego Maradona'],\n",
       "  'results': [1, 1, 1, 1]},\n",
       " {'kickers': ['Andreas Brehme',\n",
       "   'Lothar Matthäus',\n",
       "   'Karl-Heinz Riedle',\n",
       "   'Olaf Thon'],\n",
       "  'results': [1, 1, 1, 1]},\n",
       " {'kickers': ['Krasimir Balakov',\n",
       "   'Boncho Genchev',\n",
       "   'Daniel Borimirov',\n",
       "   'Yordan Letchkov'],\n",
       "  'results': [0, 1, 1, 1]},\n",
       " {'kickers': ['Håkan Mild',\n",
       "   'Kennet Andersson',\n",
       "   'Tomas Brolin',\n",
       "   'Klas Ingesson',\n",
       "   'Roland Nilsson',\n",
       "   'Henrik Larsson'],\n",
       "  'results': [0, 1, 1, 1, 1, 1]},\n",
       " {'kickers': ['Márcio Santos', 'Romário', 'Branco', 'Dunga'],\n",
       "  'results': [0, 1, 1, 1]},\n",
       " {'kickers': ['Sergio Berti',\n",
       "   'Hernán Crespo',\n",
       "   'Juan Sebastián Verón',\n",
       "   'Marcelo Gallardo',\n",
       "   'Roberto Ayala'],\n",
       "  'results': [1, 0, 1, 1, 1]},\n",
       " {'kickers': ['Zinedine Zidane',\n",
       "   'Bixente Lizarazu',\n",
       "   'David Trezeguet',\n",
       "   'Thierry Henry',\n",
       "   'Laurent Blanc'],\n",
       "  'results': [1, 0, 1, 1, 1]},\n",
       " {'kickers': ['Ronaldo', 'Rivaldo', 'Emerson', 'Dunga'],\n",
       "  'results': [1, 1, 1, 1]},\n",
       " {'kickers': ['Fernando Hierro',\n",
       "   'Rubén Baraja',\n",
       "   'Juanfran',\n",
       "   'Juan Carlos Valerón',\n",
       "   'Gaizka Mendieta'],\n",
       "  'results': [1, 1, 0, 0, 1]},\n",
       " {'kickers': ['Hwang Sun-hong',\n",
       "   'Park Ji-sung',\n",
       "   'Seol Ki-hyeon',\n",
       "   'Ahn Jung-hwan',\n",
       "   'Hong Myung-bo'],\n",
       "  'results': [1, 1, 1, 1, 1]},\n",
       " {'kickers': ['Andriy Shevchenko',\n",
       "   'Artem Milevskiy',\n",
       "   'Serhiy Rebrov',\n",
       "   'Oleh Husyev'],\n",
       "  'results': [0, 1, 1, 1]},\n",
       " {'kickers': ['Oliver Neuville',\n",
       "   'Michael Ballack',\n",
       "   'Lukas Podolski',\n",
       "   'Tim Borowski'],\n",
       "  'results': [1, 1, 1, 1]},\n",
       " {'kickers': ['Simão Sabrosa',\n",
       "   'Hugo Viana',\n",
       "   'Petit',\n",
       "   'Hélder Postiga',\n",
       "   'Cristiano Ronaldo'],\n",
       "  'results': [1, 0, 0, 1, 1]},\n",
       " {'kickers': ['Andrea Pirlo',\n",
       "   'Marco Materazzi',\n",
       "   'Daniele De Rossi',\n",
       "   'Alessandro Del Piero',\n",
       "   'Fabio Grosso'],\n",
       "  'results': [1, 1, 1, 1, 1]},\n",
       " {'kickers': ['Édgar Barreto',\n",
       "   'Lucas Barrios',\n",
       "   'Cristian Riveros',\n",
       "   'Nelson Valdez',\n",
       "   'Óscar Cardozo'],\n",
       "  'results': [1, 1, 1, 1, 1]},\n",
       " {'kickers': ['Diego Forlán',\n",
       "   'Mauricio Victorino',\n",
       "   'Andrés Scotti',\n",
       "   'Maxi Pereira',\n",
       "   'Sebastián Abreu'],\n",
       "  'results': [1, 1, 1, 0, 1]},\n",
       " {'kickers': ['David Luiz', 'Willian', 'Marcelo', 'Hulk', 'Neymar'],\n",
       "  'results': [1, 0, 1, 0, 1]},\n",
       " {'kickers': ['Celso Borges',\n",
       "   'Bryan Ruiz',\n",
       "   'Giancarlo González',\n",
       "   'Joel Campbell',\n",
       "   'Michael Umaña'],\n",
       "  'results': [1, 1, 1, 1, 1]},\n",
       " {'kickers': ['Robin van Persie',\n",
       "   'Arjen Robben',\n",
       "   'Wesley Sneijder',\n",
       "   'Dirk Kuyt'],\n",
       "  'results': [1, 1, 1, 1]},\n",
       " {'kickers': ['Lionel Messi',\n",
       "   'Ezequiel Garay',\n",
       "   'Sergio Agüero',\n",
       "   'Maxi Rodríguez'],\n",
       "  'results': [1, 1, 1, 1]},\n",
       " {'kickers': ['Fyodor Smolov',\n",
       "   'Sergei Ignashevich',\n",
       "   'Aleksandr Golovin',\n",
       "   'Denis Cheryshev'],\n",
       "  'results': [1, 1, 1, 1]},\n",
       " {'kickers': ['Milan Badelj',\n",
       "   'Andrej Kramarić',\n",
       "   'Luka Modrić',\n",
       "   'Josip Pivarić',\n",
       "   'Ivan Rakitić'],\n",
       "  'results': [0, 1, 1, 0, 1]},\n",
       " {'kickers': ['Harry Kane',\n",
       "   'Marcus Rashford',\n",
       "   'Jordan Henderson',\n",
       "   'Kieran Trippier',\n",
       "   'Eric Dier'],\n",
       "  'results': [1, 1, 0, 1, 1]},\n",
       " {'kickers': ['Marcelo Brozović',\n",
       "   'Mateo Kovačić',\n",
       "   'Luka Modrić',\n",
       "   'Domagoj Vida',\n",
       "   'Ivan Rakitić'],\n",
       "  'results': [1, 0, 1, 1, 1]}]"
      ]
     },
     "execution_count": 294,
     "metadata": {},
     "output_type": "execute_result"
    }
   ],
   "source": [
    "d['winnerPenalties'] = []\n",
    "for i in range(len(rows)):\n",
    "    cells = rows[i].find_all('td')\n",
    "    if cells: #need test as the two header rows would cause an error when trying to split\n",
    "        convertedRow = str(cells[7]).split('<span class=\"nowrap\">')\n",
    "        \n",
    "        d['winnerPenalties'].append({})\n",
    "        d['winnerPenalties'][i-2]['kickers'] = penKickers(convertedRow, 1)\n",
    "        d['winnerPenalties'][i-2]['results'] = penResults(convertedRow)\n",
    "\n",
    "d['winnerPenalties']"
   ]
  },
  {
   "cell_type": "code",
   "execution_count": 295,
   "metadata": {},
   "outputs": [
    {
     "data": {
      "text/plain": [
       "[{'kickers': ['Alain Giresse',\n",
       "   'Manuel Amoros',\n",
       "   'Dominique Rocheteau',\n",
       "   'Didier Six',\n",
       "   'Michel Platini',\n",
       "   'Maxime Bossis'],\n",
       "  'results': [1, 1, 1, 0, 1, 0]},\n",
       " {'kickers': ['Sócrates', 'Alemão', 'Zico', 'Branco', 'Júlio César'],\n",
       "  'results': [0, 1, 1, 1, 0]},\n",
       " {'kickers': ['Manuel Negrete Arias', 'Fernando Quirarte', 'Raúl Servín'],\n",
       "  'results': [1, 0, 0]},\n",
       " {'kickers': ['Juan Antonio Señor',\n",
       "   'Eloy Olaya',\n",
       "   'Chendo',\n",
       "   'Emilio Butragueño',\n",
       "   'Víctor Muñoz'],\n",
       "  'results': [1, 0, 1, 1, 1]},\n",
       " {'kickers': ['Gheorghe Hagi',\n",
       "   'Dănuț Lupu',\n",
       "   'Iosif Rotariu',\n",
       "   'Ioan Lupescu',\n",
       "   'Daniel Timofte'],\n",
       "  'results': [1, 1, 1, 1, 0]},\n",
       " {'kickers': ['Dragan Stojković',\n",
       "   'Robert Prosinečki',\n",
       "   'Dejan Savićević',\n",
       "   'Dragoljub Brnović',\n",
       "   'Faruk Hadžibegić'],\n",
       "  'results': [0, 1, 1, 0, 0]},\n",
       " {'kickers': ['Franco Baresi',\n",
       "   'Roberto Baggio',\n",
       "   'Luigi De Agostini',\n",
       "   'Roberto Donadoni',\n",
       "   'Aldo Serena'],\n",
       "  'results': [1, 1, 1, 0, 0]},\n",
       " {'kickers': ['Gary Lineker',\n",
       "   'Peter Beardsley',\n",
       "   'David Platt',\n",
       "   'Stuart Pearce',\n",
       "   'Chris Waddle'],\n",
       "  'results': [1, 1, 1, 0, 0]},\n",
       " {'kickers': ['Alberto García Aspe',\n",
       "   'Marcelino Bernal',\n",
       "   'Jorge Rodríguez',\n",
       "   'Claudio Suárez'],\n",
       "  'results': [0, 0, 0, 1]},\n",
       " {'kickers': ['Florin Răducioiu',\n",
       "   'Gheorghe Hagi',\n",
       "   'Ioan Lupescu',\n",
       "   'Dan Petrescu',\n",
       "   'Ilie Dumitrescu',\n",
       "   'Miodrag Belodedici'],\n",
       "  'results': [1, 1, 1, 0, 1, 0]},\n",
       " {'kickers': ['Franco Baresi',\n",
       "   'Demetrio Albertini',\n",
       "   'Alberigo Evani',\n",
       "   'Daniele Massaro',\n",
       "   'Roberto Baggio'],\n",
       "  'results': [0, 1, 1, 0, 0]},\n",
       " {'kickers': ['Alan Shearer',\n",
       "   'Paul Ince',\n",
       "   'Paul Merson',\n",
       "   'Michael Owen',\n",
       "   'David Batty'],\n",
       "  'results': [1, 0, 1, 1, 0]},\n",
       " {'kickers': ['Roberto Baggio',\n",
       "   'Demetrio Albertini',\n",
       "   'Alessandro Costacurta',\n",
       "   'Christian Vieri',\n",
       "   'Luigi Di Biagio'],\n",
       "  'results': [1, 0, 1, 1, 0]},\n",
       " {'kickers': ['Frank de Boer',\n",
       "   'Dennis Bergkamp',\n",
       "   'Phillip Cocu',\n",
       "   'Ronald de Boer'],\n",
       "  'results': [1, 1, 0, 0]},\n",
       " {'kickers': ['Robbie Keane',\n",
       "   'Matt Holland',\n",
       "   'David Connolly',\n",
       "   'Kevin Kilbane',\n",
       "   'Steve Finnan'],\n",
       "  'results': [1, 0, 0, 0, 1]},\n",
       " {'kickers': ['Fernando Hierro', 'Rubén Baraja', 'Xavi', 'Joaquín'],\n",
       "  'results': [1, 1, 1, 0]},\n",
       " {'kickers': ['Marco Streller', 'Tranquillo Barnetta', 'Ricardo Cabanas'],\n",
       "  'results': [0, 0, 0]},\n",
       " {'kickers': ['Julio Ricardo Cruz',\n",
       "   'Roberto Ayala',\n",
       "   'Maxi Rodríguez',\n",
       "   'Esteban Cambiasso'],\n",
       "  'results': [1, 0, 1, 0]},\n",
       " {'kickers': ['Frank Lampard',\n",
       "   'Owen Hargreaves',\n",
       "   'Steven Gerrard',\n",
       "   'Jamie Carragher'],\n",
       "  'results': [0, 1, 0, 0]},\n",
       " {'kickers': ['Sylvain Wiltord',\n",
       "   'David Trezeguet',\n",
       "   'Éric Abidal',\n",
       "   'Willy Sagnol'],\n",
       "  'results': [1, 0, 1, 1]},\n",
       " {'kickers': ['Yasuhito Endō',\n",
       "   'Makoto Hasebe',\n",
       "   'Yūichi Komano',\n",
       "   'Keisuke Honda'],\n",
       "  'results': [1, 1, 0, 1]},\n",
       " {'kickers': ['Asamoah Gyan',\n",
       "   'Stephen Appiah',\n",
       "   'John Mensah',\n",
       "   'Dominic Adiyiah'],\n",
       "  'results': [1, 1, 0, 0]},\n",
       " {'kickers': ['Mauricio Pinilla',\n",
       "   'Alexis Sánchez',\n",
       "   'Charles Aránguiz',\n",
       "   'Marcelo Díaz',\n",
       "   'Gonzalo Jara'],\n",
       "  'results': [0, 0, 1, 1, 0]},\n",
       " {'kickers': ['Konstantinos Mitroglou',\n",
       "   'Lazaros Christodoulopoulos',\n",
       "   'José Holebas',\n",
       "   'Theofanis Gekas'],\n",
       "  'results': [1, 1, 1, 0]},\n",
       " {'kickers': ['Celso Borges',\n",
       "   'Bryan Ruiz',\n",
       "   'Giancarlo González',\n",
       "   'Christian Bolaños',\n",
       "   'Michael Umaña'],\n",
       "  'results': [1, 0, 1, 1, 0]},\n",
       " {'kickers': ['Ron Vlaar', 'Arjen Robben', 'Wesley Sneijder', 'Dirk Kuyt'],\n",
       "  'results': [0, 1, 0, 1]},\n",
       " {'kickers': ['Andrés Iniesta',\n",
       "   'Gerard Piqué',\n",
       "   'Koke',\n",
       "   'Sergio Ramos',\n",
       "   'Iago Aspas'],\n",
       "  'results': [1, 1, 0, 1, 0]},\n",
       " {'kickers': ['Christian Eriksen',\n",
       "   'Simon Kjær',\n",
       "   'Michael Krohn-Dehli',\n",
       "   'Lasse Schöne',\n",
       "   'Nicolai Jørgensen'],\n",
       "  'results': [0, 1, 1, 0, 0]},\n",
       " {'kickers': ['Radamel Falcao',\n",
       "   'Juan Cuadrado',\n",
       "   'Luis Muriel',\n",
       "   'Mateus Uribe',\n",
       "   'Carlos Bacca'],\n",
       "  'results': [1, 1, 1, 0, 0]},\n",
       " {'kickers': ['Fyodor Smolov',\n",
       "   'Alan Dzagoev',\n",
       "   'Mário Fernandes',\n",
       "   'Sergei Ignashevich',\n",
       "   'Daler Kuzyayev'],\n",
       "  'results': [0, 1, 0, 1, 1]}]"
      ]
     },
     "execution_count": 295,
     "metadata": {},
     "output_type": "execute_result"
    }
   ],
   "source": [
    "d['loserPenalties'] = []\n",
    "for i in range(len(rows)):\n",
    "    cells = rows[i].find_all('td')\n",
    "    if cells: #need test as the two header rows would cause an error when trying to split\n",
    "        convertedRow = str(cells[8]).split('<span class=\"nowrap\">')\n",
    "        #print(convertedRow)\n",
    "        d['loserPenalties'].append({})\n",
    "        d['loserPenalties'][i-2]['kickers'] = penKickers(convertedRow, 2)\n",
    "        d['loserPenalties'][i-2]['results'] = penResults(convertedRow)\n",
    "\n",
    "d['loserPenalties']"
   ]
  },
  {
   "cell_type": "code",
   "execution_count": 296,
   "metadata": {},
   "outputs": [
    {
     "name": "stdout",
     "output_type": "stream",
     "text": [
      "[0, 0, 1, 0, 0, 1, 0, 0, 0, 1, 0, 1, 1, 1, 0, 1, 1, 1, 1, 1, 1, 1, 1, 1, 0, 0, 0, 0, 0, 0]\n"
     ]
    }
   ],
   "source": [
    "#if team won it's first player will be highlighted with a grey background so test if \n",
    "#that color's tag is in the cell\n",
    "\n",
    "d['winnerTookFirstPenalty'] = []\n",
    "for i in range(len(rows)):\n",
    "    cells = rows[i].find_all('td')\n",
    "    if cells: #need test as the two header rows would cause an error when trying to split\n",
    "        if 'background-color: #C3C3C3' in str(cells[7]):\n",
    "            d['winnerTookFirstPenalty'].append(1)\n",
    "        else:\n",
    "            d['winnerTookFirstPenalty'].append(0)\n",
    "        \n",
    "print(d['winnerTookFirstPenalty'])"
   ]
  },
  {
   "cell_type": "code",
   "execution_count": 297,
   "metadata": {},
   "outputs": [
    {
     "name": "stdout",
     "output_type": "stream",
     "text": [
      "<td rowspan=\"3\"><a href=\"/wiki/1986_FIFA_World_Cup\" title=\"1986 FIFA World Cup\">1986, Mexico</a>\n",
      "</td>\n"
     ]
    }
   ],
   "source": [
    "for i in range(2, len(rows)):\n",
    "    cells = rows[3].find_all('td')\n",
    "    print(str(cells[10])) #[:-1] to get rid of '\\n' at end of string\n",
    "    break"
   ]
  },
  {
   "cell_type": "code",
   "execution_count": 298,
   "metadata": {},
   "outputs": [
    {
     "name": "stdout",
     "output_type": "stream",
     "text": [
      "[1982, 1986, 1986, 1986, 1990, 1990, 1990, 1990, 1994, 1994, 1994, 1998, 1998, 1998, 2002, 2002, 2006, 2006, 2006, 2006, 2010, 2010, 2014, 2014, 2014, 2014, 2018, 2018, 2018, 2018]\n",
      "['Spain', 'Mexico', 'Mexico', 'Mexico', 'Italy', 'Italy', 'Italy', 'Italy', 'USA', 'USA', 'USA', 'France', 'France', 'France', 'Korea/Japan', 'Korea/Japan', 'Germany', 'Germany', 'Germany', 'Germany', 'South Africa', 'South Africa', 'Brazil', 'Brazil', 'Brazil', 'Brazil', 'Russia', 'Russia', 'Russia', 'Russia']\n"
     ]
    }
   ],
   "source": [
    "d['year'] = []\n",
    "d['hostCountry'] = []\n",
    "\n",
    "i = 2 #skip rows 0 and 1 as they're headers\n",
    "loopAgain = True\n",
    "while loopAgain:\n",
    "    cell = rows[i].find_all('td')[10]\n",
    "    yearAndLocationSplit = cell.text[:-1].split(', ') #[:-1] to strip '\\n' off end\n",
    "    \n",
    "    d['year'].append(int(yearAndLocationSplit[0]))\n",
    "    d['hostCountry'].append(yearAndLocationSplit[1])\n",
    "    \n",
    "    i += 1\n",
    "    \n",
    "    #deal with cells that span multiple rows.\n",
    "    if \"rowspan\" in str(cell):\n",
    "        extraloops = int(str(cell).split('\"')[1]) - 1 #-1 as already done one loop above\n",
    "        for j in range(extraloops):\n",
    "            d['year'].append(int(yearAndLocationSplit[0]))\n",
    "            d['hostCountry'].append(yearAndLocationSplit[1])\n",
    "            i += 1\n",
    "    \n",
    "    if i >= len(rows):\n",
    "        loopAgain = False\n",
    "        \n",
    "print(d['year'])\n",
    "print(d['hostCountry'])"
   ]
  },
  {
   "cell_type": "code",
   "execution_count": 299,
   "metadata": {},
   "outputs": [
    {
     "data": {
      "text/plain": [
       "['Semi-finals',\n",
       " 'Quarter-finals',\n",
       " 'Quarter-finals',\n",
       " 'Quarter-finals',\n",
       " 'Second round',\n",
       " 'Quarter-finals',\n",
       " 'Quarter-finals',\n",
       " 'Quarter-finals',\n",
       " 'Second round',\n",
       " 'Quarter-finals',\n",
       " 'Final',\n",
       " 'Second round',\n",
       " 'Quarter-finals',\n",
       " 'Semi-finals',\n",
       " 'Second round',\n",
       " 'Quarter-finals',\n",
       " 'Second round',\n",
       " 'Quarter-finals',\n",
       " 'Quarter-finals',\n",
       " 'Final',\n",
       " 'Second round',\n",
       " 'Quarter-finals',\n",
       " 'Second round',\n",
       " 'Second round',\n",
       " 'Quarter-finals',\n",
       " 'Semi-finals',\n",
       " 'Second round',\n",
       " 'Second round',\n",
       " 'Second round',\n",
       " 'Quarter-finals']"
      ]
     },
     "execution_count": 299,
     "metadata": {},
     "output_type": "execute_result"
    }
   ],
   "source": [
    "d['stage'] = []\n",
    "\n",
    "i = 2 #skip rows 0 and 1 as they're headers\n",
    "loopAgain = True\n",
    "while loopAgain:\n",
    "    previousColCell = rows[i].find_all('td')[10]\n",
    "    \n",
    "    if '#' in str(previousColCell):\n",
    "        cell = previousColCell\n",
    "        stageVar = previousColCell.text\n",
    "    elif ('style=\"display:none;\"' in str(previousColCell) or \n",
    "          'style=\"white-space:nowrap\"' in str(previousColCell)):\n",
    "        #work around for dealing with game8 where there's a merged\n",
    "        #cell for stage, but it doesn't start on the same row as the \n",
    "        #merged cell for the year/location.\n",
    "        \n",
    "        #leave cell as value from last loop\n",
    "        pass\n",
    "    else:\n",
    "        cell = rows[i].find_all('td')[11]\n",
    "        \n",
    "    stageVar = cell.text[2:-1] #[1:-1] as text starts as '\\xa0 Semi-finals\\n'\n",
    "    d['stage'].append(stageVar)\n",
    "    \n",
    "    i += 1\n",
    "    \n",
    "    #deal with cells that define how many rows they span\n",
    "    if \"rowspan\" in str(cell):\n",
    "        extraloops = int(str(cell).split('\"')[1]) - 1 #-1 as already done one loop above\n",
    "        for j in range(extraloops):\n",
    "            d['stage'].append(stageVar)\n",
    "            i += 1\n",
    "    \n",
    "    if i >= len(rows):\n",
    "        loopAgain = False\n",
    "        \n",
    "d['stage']"
   ]
  },
  {
   "cell_type": "code",
   "execution_count": 300,
   "metadata": {},
   "outputs": [
    {
     "name": "stdout",
     "output_type": "stream",
     "text": [
      "{'winners': ['West Germany', 'France', 'West Germany', 'Belgium', 'Republic of Ireland', 'Argentina', 'Argentina', 'West Germany', 'Bulgaria', 'Sweden', 'Brazil', 'Argentina', 'France', 'Brazil', 'Spain', 'South Korea', 'Ukraine', 'Germany', 'Portugal', 'Italy', 'Paraguay', 'Uruguay', 'Brazil', 'Costa Rica', 'Netherlands', 'Argentina', 'Russia', 'Croatia', 'England', 'Croatia'], 'losers': ['France', 'Brazil', 'Mexico', 'Spain', 'Romania', 'Yugoslavia', 'Italy', 'England', 'Mexico', 'Romania', 'Italy', 'England', 'Italy', 'Netherlands', 'Republic of Ireland', 'Spain', 'Switzerland', 'Argentina', 'England', 'France', 'Japan', 'Ghana', 'Chile', 'Greece', 'Costa Rica', 'Netherlands', 'Spain', 'Denmark', 'Colombia', 'Russia'], 'gameID': [1, 2, 3, 4, 5, 6, 7, 8, 9, 10, 11, 12, 13, 14, 15, 16, 17, 18, 19, 20, 21, 22, 23, 24, 25, 26, 27, 28, 29, 30], 'finalScoreGoalsEach': ['3', '1', '0', '1', '0', '0', '1', '1', '1', '2', '0', '2', '0', '1', '1', '0', '0', '1', '0', '1', '0', '1', '1', '1', '0', '0', '1', '1', '1', '2'], 'winnerPenalties': [{'kickers': ['Manfred Kaltz', 'Paul Breitner', 'Uli Stielike', 'Pierre Littbarski', 'Karl-Heinz Rummenigge', 'Horst Hrubesch'], 'results': [1, 1, 0, 1, 1, 1]}, {'kickers': ['Yannick Stopyra', 'Manuel Amoros', 'Bruno Bellone', 'Michel Platini', 'Luis Fernández'], 'results': [1, 1, 1, 0, 1]}, {'kickers': ['Klaus Allofs', 'Andreas Brehme', 'Lothar Matthäus', 'Pierre Littbarski'], 'results': [1, 1, 1, 1]}, {'kickers': ['Nico Claesen', 'Enzo Scifo', 'Hugo Broos', 'Patrick Vervoort', 'Leo Van der Elst'], 'results': [1, 1, 1, 1, 1]}, {'kickers': ['Kevin Sheedy', 'Ray Houghton', 'Andy Townsend', 'Tony Cascarino', \"David O'Leary\"], 'results': [1, 1, 1, 1, 1]}, {'kickers': ['José Serrizuela', 'Jorge Burruchaga', 'Diego Maradona', 'Pedro Troglio', 'Gustavo Dezotti'], 'results': [1, 1, 0, 0, 1]}, {'kickers': ['José Serrizuela', 'Jorge Burruchaga', 'Julio Olarticoechea', 'Diego Maradona'], 'results': [1, 1, 1, 1]}, {'kickers': ['Andreas Brehme', 'Lothar Matthäus', 'Karl-Heinz Riedle', 'Olaf Thon'], 'results': [1, 1, 1, 1]}, {'kickers': ['Krasimir Balakov', 'Boncho Genchev', 'Daniel Borimirov', 'Yordan Letchkov'], 'results': [0, 1, 1, 1]}, {'kickers': ['Håkan Mild', 'Kennet Andersson', 'Tomas Brolin', 'Klas Ingesson', 'Roland Nilsson', 'Henrik Larsson'], 'results': [0, 1, 1, 1, 1, 1]}, {'kickers': ['Márcio Santos', 'Romário', 'Branco', 'Dunga'], 'results': [0, 1, 1, 1]}, {'kickers': ['Sergio Berti', 'Hernán Crespo', 'Juan Sebastián Verón', 'Marcelo Gallardo', 'Roberto Ayala'], 'results': [1, 0, 1, 1, 1]}, {'kickers': ['Zinedine Zidane', 'Bixente Lizarazu', 'David Trezeguet', 'Thierry Henry', 'Laurent Blanc'], 'results': [1, 0, 1, 1, 1]}, {'kickers': ['Ronaldo', 'Rivaldo', 'Emerson', 'Dunga'], 'results': [1, 1, 1, 1]}, {'kickers': ['Fernando Hierro', 'Rubén Baraja', 'Juanfran', 'Juan Carlos Valerón', 'Gaizka Mendieta'], 'results': [1, 1, 0, 0, 1]}, {'kickers': ['Hwang Sun-hong', 'Park Ji-sung', 'Seol Ki-hyeon', 'Ahn Jung-hwan', 'Hong Myung-bo'], 'results': [1, 1, 1, 1, 1]}, {'kickers': ['Andriy Shevchenko', 'Artem Milevskiy', 'Serhiy Rebrov', 'Oleh Husyev'], 'results': [0, 1, 1, 1]}, {'kickers': ['Oliver Neuville', 'Michael Ballack', 'Lukas Podolski', 'Tim Borowski'], 'results': [1, 1, 1, 1]}, {'kickers': ['Simão Sabrosa', 'Hugo Viana', 'Petit', 'Hélder Postiga', 'Cristiano Ronaldo'], 'results': [1, 0, 0, 1, 1]}, {'kickers': ['Andrea Pirlo', 'Marco Materazzi', 'Daniele De Rossi', 'Alessandro Del Piero', 'Fabio Grosso'], 'results': [1, 1, 1, 1, 1]}, {'kickers': ['Édgar Barreto', 'Lucas Barrios', 'Cristian Riveros', 'Nelson Valdez', 'Óscar Cardozo'], 'results': [1, 1, 1, 1, 1]}, {'kickers': ['Diego Forlán', 'Mauricio Victorino', 'Andrés Scotti', 'Maxi Pereira', 'Sebastián Abreu'], 'results': [1, 1, 1, 0, 1]}, {'kickers': ['David Luiz', 'Willian', 'Marcelo', 'Hulk', 'Neymar'], 'results': [1, 0, 1, 0, 1]}, {'kickers': ['Celso Borges', 'Bryan Ruiz', 'Giancarlo González', 'Joel Campbell', 'Michael Umaña'], 'results': [1, 1, 1, 1, 1]}, {'kickers': ['Robin van Persie', 'Arjen Robben', 'Wesley Sneijder', 'Dirk Kuyt'], 'results': [1, 1, 1, 1]}, {'kickers': ['Lionel Messi', 'Ezequiel Garay', 'Sergio Agüero', 'Maxi Rodríguez'], 'results': [1, 1, 1, 1]}, {'kickers': ['Fyodor Smolov', 'Sergei Ignashevich', 'Aleksandr Golovin', 'Denis Cheryshev'], 'results': [1, 1, 1, 1]}, {'kickers': ['Milan Badelj', 'Andrej Kramarić', 'Luka Modrić', 'Josip Pivarić', 'Ivan Rakitić'], 'results': [0, 1, 1, 0, 1]}, {'kickers': ['Harry Kane', 'Marcus Rashford', 'Jordan Henderson', 'Kieran Trippier', 'Eric Dier'], 'results': [1, 1, 0, 1, 1]}, {'kickers': ['Marcelo Brozović', 'Mateo Kovačić', 'Luka Modrić', 'Domagoj Vida', 'Ivan Rakitić'], 'results': [1, 0, 1, 1, 1]}], 'loserPenalties': [{'kickers': ['Alain Giresse', 'Manuel Amoros', 'Dominique Rocheteau', 'Didier Six', 'Michel Platini', 'Maxime Bossis'], 'results': [1, 1, 1, 0, 1, 0]}, {'kickers': ['Sócrates', 'Alemão', 'Zico', 'Branco', 'Júlio César'], 'results': [0, 1, 1, 1, 0]}, {'kickers': ['Manuel Negrete Arias', 'Fernando Quirarte', 'Raúl Servín'], 'results': [1, 0, 0]}, {'kickers': ['Juan Antonio Señor', 'Eloy Olaya', 'Chendo', 'Emilio Butragueño', 'Víctor Muñoz'], 'results': [1, 0, 1, 1, 1]}, {'kickers': ['Gheorghe Hagi', 'Dănuț Lupu', 'Iosif Rotariu', 'Ioan Lupescu', 'Daniel Timofte'], 'results': [1, 1, 1, 1, 0]}, {'kickers': ['Dragan Stojković', 'Robert Prosinečki', 'Dejan Savićević', 'Dragoljub Brnović', 'Faruk Hadžibegić'], 'results': [0, 1, 1, 0, 0]}, {'kickers': ['Franco Baresi', 'Roberto Baggio', 'Luigi De Agostini', 'Roberto Donadoni', 'Aldo Serena'], 'results': [1, 1, 1, 0, 0]}, {'kickers': ['Gary Lineker', 'Peter Beardsley', 'David Platt', 'Stuart Pearce', 'Chris Waddle'], 'results': [1, 1, 1, 0, 0]}, {'kickers': ['Alberto García Aspe', 'Marcelino Bernal', 'Jorge Rodríguez', 'Claudio Suárez'], 'results': [0, 0, 0, 1]}, {'kickers': ['Florin Răducioiu', 'Gheorghe Hagi', 'Ioan Lupescu', 'Dan Petrescu', 'Ilie Dumitrescu', 'Miodrag Belodedici'], 'results': [1, 1, 1, 0, 1, 0]}, {'kickers': ['Franco Baresi', 'Demetrio Albertini', 'Alberigo Evani', 'Daniele Massaro', 'Roberto Baggio'], 'results': [0, 1, 1, 0, 0]}, {'kickers': ['Alan Shearer', 'Paul Ince', 'Paul Merson', 'Michael Owen', 'David Batty'], 'results': [1, 0, 1, 1, 0]}, {'kickers': ['Roberto Baggio', 'Demetrio Albertini', 'Alessandro Costacurta', 'Christian Vieri', 'Luigi Di Biagio'], 'results': [1, 0, 1, 1, 0]}, {'kickers': ['Frank de Boer', 'Dennis Bergkamp', 'Phillip Cocu', 'Ronald de Boer'], 'results': [1, 1, 0, 0]}, {'kickers': ['Robbie Keane', 'Matt Holland', 'David Connolly', 'Kevin Kilbane', 'Steve Finnan'], 'results': [1, 0, 0, 0, 1]}, {'kickers': ['Fernando Hierro', 'Rubén Baraja', 'Xavi', 'Joaquín'], 'results': [1, 1, 1, 0]}, {'kickers': ['Marco Streller', 'Tranquillo Barnetta', 'Ricardo Cabanas'], 'results': [0, 0, 0]}, {'kickers': ['Julio Ricardo Cruz', 'Roberto Ayala', 'Maxi Rodríguez', 'Esteban Cambiasso'], 'results': [1, 0, 1, 0]}, {'kickers': ['Frank Lampard', 'Owen Hargreaves', 'Steven Gerrard', 'Jamie Carragher'], 'results': [0, 1, 0, 0]}, {'kickers': ['Sylvain Wiltord', 'David Trezeguet', 'Éric Abidal', 'Willy Sagnol'], 'results': [1, 0, 1, 1]}, {'kickers': ['Yasuhito Endō', 'Makoto Hasebe', 'Yūichi Komano', 'Keisuke Honda'], 'results': [1, 1, 0, 1]}, {'kickers': ['Asamoah Gyan', 'Stephen Appiah', 'John Mensah', 'Dominic Adiyiah'], 'results': [1, 1, 0, 0]}, {'kickers': ['Mauricio Pinilla', 'Alexis Sánchez', 'Charles Aránguiz', 'Marcelo Díaz', 'Gonzalo Jara'], 'results': [0, 0, 1, 1, 0]}, {'kickers': ['Konstantinos Mitroglou', 'Lazaros Christodoulopoulos', 'José Holebas', 'Theofanis Gekas'], 'results': [1, 1, 1, 0]}, {'kickers': ['Celso Borges', 'Bryan Ruiz', 'Giancarlo González', 'Christian Bolaños', 'Michael Umaña'], 'results': [1, 0, 1, 1, 0]}, {'kickers': ['Ron Vlaar', 'Arjen Robben', 'Wesley Sneijder', 'Dirk Kuyt'], 'results': [0, 1, 0, 1]}, {'kickers': ['Andrés Iniesta', 'Gerard Piqué', 'Koke', 'Sergio Ramos', 'Iago Aspas'], 'results': [1, 1, 0, 1, 0]}, {'kickers': ['Christian Eriksen', 'Simon Kjær', 'Michael Krohn-Dehli', 'Lasse Schöne', 'Nicolai Jørgensen'], 'results': [0, 1, 1, 0, 0]}, {'kickers': ['Radamel Falcao', 'Juan Cuadrado', 'Luis Muriel', 'Mateus Uribe', 'Carlos Bacca'], 'results': [1, 1, 1, 0, 0]}, {'kickers': ['Fyodor Smolov', 'Alan Dzagoev', 'Mário Fernandes', 'Sergei Ignashevich', 'Daler Kuzyayev'], 'results': [0, 1, 0, 1, 1]}], 'winnerTookFirstPenalty': [0, 0, 1, 0, 0, 1, 0, 0, 0, 1, 0, 1, 1, 1, 0, 1, 1, 1, 1, 1, 1, 1, 1, 1, 0, 0, 0, 0, 0, 0], 'year': [1982, 1986, 1986, 1986, 1990, 1990, 1990, 1990, 1994, 1994, 1994, 1998, 1998, 1998, 2002, 2002, 2006, 2006, 2006, 2006, 2010, 2010, 2014, 2014, 2014, 2014, 2018, 2018, 2018, 2018], 'hostCountry': ['Spain', 'Mexico', 'Mexico', 'Mexico', 'Italy', 'Italy', 'Italy', 'Italy', 'USA', 'USA', 'USA', 'France', 'France', 'France', 'Korea/Japan', 'Korea/Japan', 'Germany', 'Germany', 'Germany', 'Germany', 'South Africa', 'South Africa', 'Brazil', 'Brazil', 'Brazil', 'Brazil', 'Russia', 'Russia', 'Russia', 'Russia'], 'stage': ['Semi-finals', 'Quarter-finals', 'Quarter-finals', 'Quarter-finals', 'Second round', 'Quarter-finals', 'Quarter-finals', 'Quarter-finals', 'Second round', 'Quarter-finals', 'Final', 'Second round', 'Quarter-finals', 'Semi-finals', 'Second round', 'Quarter-finals', 'Second round', 'Quarter-finals', 'Quarter-finals', 'Final', 'Second round', 'Quarter-finals', 'Second round', 'Second round', 'Quarter-finals', 'Semi-finals', 'Second round', 'Second round', 'Second round', 'Quarter-finals']}\n"
     ]
    }
   ],
   "source": [
    "print(d)"
   ]
  }
 ],
 "metadata": {
  "kernelspec": {
   "display_name": "Python 3",
   "language": "python",
   "name": "python3"
  },
  "language_info": {
   "codemirror_mode": {
    "name": "ipython",
    "version": 3
   },
   "file_extension": ".py",
   "mimetype": "text/x-python",
   "name": "python",
   "nbconvert_exporter": "python",
   "pygments_lexer": "ipython3",
   "version": "3.6.2"
  }
 },
 "nbformat": 4,
 "nbformat_minor": 2
}
