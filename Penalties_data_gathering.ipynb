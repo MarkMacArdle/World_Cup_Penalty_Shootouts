{
 "cells": [
  {
   "cell_type": "code",
   "execution_count": 2,
   "metadata": {
    "collapsed": true
   },
   "outputs": [],
   "source": [
    "from bs4 import BeautifulSoup as bs\n",
    "import requests\n",
    "import pandas as pd"
   ]
  },
  {
   "cell_type": "code",
   "execution_count": 3,
   "metadata": {
    "collapsed": true
   },
   "outputs": [],
   "source": [
    "url = \"https://en.wikipedia.org/wiki/List_of_FIFA_World_Cup_penalty_shoot-outs\"\n",
    "r = requests.get(url)\n",
    "soup = bs(r.content, \"lxml\")"
   ]
  },
  {
   "cell_type": "code",
   "execution_count": 4,
   "metadata": {
    "collapsed": true
   },
   "outputs": [],
   "source": [
    "t = soup.find_all('table')"
   ]
  },
  {
   "cell_type": "code",
   "execution_count": 5,
   "metadata": {},
   "outputs": [],
   "source": [
    "table = t[1]"
   ]
  },
  {
   "cell_type": "code",
   "execution_count": 6,
   "metadata": {
    "collapsed": true
   },
   "outputs": [],
   "source": [
    "rows = table.find_all('tr')"
   ]
  },
  {
   "cell_type": "code",
   "execution_count": 7,
   "metadata": {},
   "outputs": [
    {
     "data": {
      "text/plain": [
       "['West Germany',\n",
       " 'France',\n",
       " 'West Germany',\n",
       " 'Belgium',\n",
       " 'Republic of Ireland',\n",
       " 'Argentina',\n",
       " 'Argentina',\n",
       " 'West Germany',\n",
       " 'Bulgaria',\n",
       " 'Sweden',\n",
       " 'Brazil',\n",
       " 'Argentina',\n",
       " 'France',\n",
       " 'Brazil',\n",
       " 'Spain',\n",
       " 'South Korea',\n",
       " 'Ukraine',\n",
       " 'Germany',\n",
       " 'Portugal',\n",
       " 'Italy',\n",
       " 'Paraguay',\n",
       " 'Uruguay',\n",
       " 'Brazil',\n",
       " 'Costa Rica',\n",
       " 'Netherlands',\n",
       " 'Argentina',\n",
       " 'Russia',\n",
       " 'Croatia',\n",
       " 'England',\n",
       " 'Croatia']"
      ]
     },
     "execution_count": 7,
     "metadata": {},
     "output_type": "execute_result"
    }
   ],
   "source": [
    "winners = []\n",
    "for row in rows:\n",
    "    cells = row.find_all('td')\n",
    "    if cells:\n",
    "        winners.append(cells[0].text[1:-1]) #spliting string as plain form is '\\xa0West Germany\\n'\n",
    "\n",
    "winners"
   ]
  },
  {
   "cell_type": "code",
   "execution_count": 8,
   "metadata": {},
   "outputs": [
    {
     "data": {
      "text/plain": [
       "['France',\n",
       " 'Brazil',\n",
       " 'Mexico',\n",
       " 'Spain',\n",
       " 'Romania',\n",
       " 'Yugoslavia',\n",
       " 'Italy',\n",
       " 'England',\n",
       " 'Mexico',\n",
       " 'Romania',\n",
       " 'Italy',\n",
       " 'England',\n",
       " 'Italy',\n",
       " 'Netherlands',\n",
       " 'Republic of Ireland',\n",
       " 'Spain',\n",
       " '\\xa0Switzerland',\n",
       " 'Argentina',\n",
       " 'England',\n",
       " 'France',\n",
       " 'Japan',\n",
       " 'Ghana',\n",
       " 'Chile',\n",
       " 'Greece',\n",
       " 'Costa Rica',\n",
       " 'Netherlands',\n",
       " 'Spain',\n",
       " 'Denmark',\n",
       " 'Colombia',\n",
       " 'Russia']"
      ]
     },
     "execution_count": 8,
     "metadata": {},
     "output_type": "execute_result"
    }
   ],
   "source": [
    "losers = []\n",
    "for row in rows:\n",
    "    cells = row.find_all('td')\n",
    "    if cells:\n",
    "        losers.append(cells[2].text[1:-1]) #spliting string as plain form is '\\xa0West Germany\\n'\n",
    "\n",
    "losers"
   ]
  },
  {
   "cell_type": "code",
   "execution_count": 9,
   "metadata": {},
   "outputs": [
    {
     "data": {
      "text/plain": [
       "['France',\n",
       " 'Brazil',\n",
       " 'Mexico',\n",
       " 'Spain',\n",
       " 'Romania',\n",
       " 'Yugoslavia',\n",
       " 'Italy',\n",
       " 'England',\n",
       " 'Mexico',\n",
       " 'Romania',\n",
       " 'Italy',\n",
       " 'England',\n",
       " 'Italy',\n",
       " 'Netherlands',\n",
       " 'Republic of Ireland',\n",
       " 'Spain',\n",
       " 'Switzerland',\n",
       " 'Argentina',\n",
       " 'England',\n",
       " 'France',\n",
       " 'Japan',\n",
       " 'Ghana',\n",
       " 'Chile',\n",
       " 'Greece',\n",
       " 'Costa Rica',\n",
       " 'Netherlands',\n",
       " 'Spain',\n",
       " 'Denmark',\n",
       " 'Colombia',\n",
       " 'Russia']"
      ]
     },
     "execution_count": 9,
     "metadata": {},
     "output_type": "execute_result"
    }
   ],
   "source": [
    "losers[losers.index('\\xa0Switzerland')] = 'Switzerland'\n",
    "losers"
   ]
  },
  {
   "cell_type": "code",
   "execution_count": null,
   "metadata": {
    "collapsed": true
   },
   "outputs": [],
   "source": []
  },
  {
   "cell_type": "code",
   "execution_count": null,
   "metadata": {
    "collapsed": true
   },
   "outputs": [],
   "source": []
  }
 ],
 "metadata": {
  "kernelspec": {
   "display_name": "Python 3",
   "language": "python",
   "name": "python3"
  },
  "language_info": {
   "codemirror_mode": {
    "name": "ipython",
    "version": 3
   },
   "file_extension": ".py",
   "mimetype": "text/x-python",
   "name": "python",
   "nbconvert_exporter": "python",
   "pygments_lexer": "ipython3",
   "version": "3.6.2"
  }
 },
 "nbformat": 4,
 "nbformat_minor": 2
}
