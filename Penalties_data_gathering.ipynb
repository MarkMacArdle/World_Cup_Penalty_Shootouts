{
 "cells": [
  {
   "cell_type": "code",
   "execution_count": 157,
   "metadata": {
    "collapsed": true
   },
   "outputs": [],
   "source": [
    "from bs4 import BeautifulSoup as bs\n",
    "import requests\n",
    "import pandas as pd"
   ]
  },
  {
   "cell_type": "code",
   "execution_count": 158,
   "metadata": {
    "collapsed": true
   },
   "outputs": [],
   "source": [
    "url = \"https://en.wikipedia.org/wiki/List_of_FIFA_World_Cup_penalty_shoot-outs\"\n",
    "r = requests.get(url)\n",
    "soup = bs(r.content, \"lxml\")"
   ]
  },
  {
   "cell_type": "code",
   "execution_count": 159,
   "metadata": {
    "collapsed": true
   },
   "outputs": [],
   "source": [
    "t = soup.find_all('table')"
   ]
  },
  {
   "cell_type": "code",
   "execution_count": 160,
   "metadata": {},
   "outputs": [],
   "source": [
    "table = t[1]"
   ]
  },
  {
   "cell_type": "code",
   "execution_count": 161,
   "metadata": {
    "collapsed": true
   },
   "outputs": [],
   "source": [
    "rows = table.find_all('tr')"
   ]
  },
  {
   "cell_type": "code",
   "execution_count": 162,
   "metadata": {
    "collapsed": true
   },
   "outputs": [],
   "source": [
    "d = {}"
   ]
  },
  {
   "cell_type": "code",
   "execution_count": 163,
   "metadata": {},
   "outputs": [
    {
     "name": "stdout",
     "output_type": "stream",
     "text": [
      "['West Germany', 'France', 'West Germany', 'Belgium', 'Republic of Ireland', 'Argentina', 'Argentina', 'West Germany', 'Bulgaria', 'Sweden', 'Brazil', 'Argentina', 'France', 'Brazil', 'Spain', 'South Korea', 'Ukraine', 'Germany', 'Portugal', 'Italy', 'Paraguay', 'Uruguay', 'Brazil', 'Costa Rica', 'Netherlands', 'Argentina', 'Russia', 'Croatia', 'England', 'Croatia']\n"
     ]
    }
   ],
   "source": [
    "d['winners'] = []\n",
    "for row in rows:\n",
    "    cells = row.find_all('td')\n",
    "    if cells:\n",
    "        d['winners'].append(cells[0].text[1:-1]) #spliting string as plain form is '\\xa0West Germany\\n'\n",
    "\n",
    "print(d['winners'])"
   ]
  },
  {
   "cell_type": "code",
   "execution_count": 164,
   "metadata": {},
   "outputs": [
    {
     "name": "stdout",
     "output_type": "stream",
     "text": [
      "['France', 'Brazil', 'Mexico', 'Spain', 'Romania', 'Yugoslavia', 'Italy', 'England', 'Mexico', 'Romania', 'Italy', 'England', 'Italy', 'Netherlands', 'Republic of Ireland', 'Spain', '\\xa0Switzerland', 'Argentina', 'England', 'France', 'Japan', 'Ghana', 'Chile', 'Greece', 'Costa Rica', 'Netherlands', 'Spain', 'Denmark', 'Colombia', 'Russia']\n"
     ]
    }
   ],
   "source": [
    "d['losers'] = []\n",
    "for row in rows:\n",
    "    cells = row.find_all('td')\n",
    "    if cells:\n",
    "        d['losers'].append(cells[2].text[1:-1]) #spliting string as plain form is '\\xa0West Germany\\n'\n",
    "\n",
    "print(d['losers'])"
   ]
  },
  {
   "cell_type": "code",
   "execution_count": 165,
   "metadata": {},
   "outputs": [
    {
     "name": "stdout",
     "output_type": "stream",
     "text": [
      "['France', 'Brazil', 'Mexico', 'Spain', 'Romania', 'Yugoslavia', 'Italy', 'England', 'Mexico', 'Romania', 'Italy', 'England', 'Italy', 'Netherlands', 'Republic of Ireland', 'Spain', 'Switzerland', 'Argentina', 'England', 'France', 'Japan', 'Ghana', 'Chile', 'Greece', 'Costa Rica', 'Netherlands', 'Spain', 'Denmark', 'Colombia', 'Russia']\n"
     ]
    }
   ],
   "source": [
    "d['losers'][d['losers'].index('\\xa0Switzerland')] = 'Switzerland'\n",
    "print(d['losers'])"
   ]
  },
  {
   "cell_type": "code",
   "execution_count": 166,
   "metadata": {
    "collapsed": true
   },
   "outputs": [],
   "source": [
    "d['gameID'] = list(range(1, len(d['winners'])+1))"
   ]
  },
  {
   "cell_type": "code",
   "execution_count": 167,
   "metadata": {},
   "outputs": [
    {
     "name": "stdout",
     "output_type": "stream",
     "text": [
      "['3', '1', '0', '1', '0', '0', '1', '1', '1', '2', '0', '2', '0', '1', '1', '0', '0', '1', '0', '1', '0', '1', '1', '1', '0', '0', '1', '1', '1', '2']\n"
     ]
    }
   ],
   "source": [
    "#Games must have ended in a draw to get to penalties so only need one number for goals scored\n",
    "d['finalScoreGoalsEach'] = []\n",
    "for row in rows:\n",
    "    cells = row.find_all('td')\n",
    "    if cells:\n",
    "        d['finalScoreGoalsEach'].append(cells[1].text[0])\n",
    "\n",
    "print(d['finalScoreGoalsEach'])"
   ]
  },
  {
   "cell_type": "code",
   "execution_count": 168,
   "metadata": {},
   "outputs": [
    {
     "name": "stdout",
     "output_type": "stream",
     "text": [
      "{'winners': ['West Germany', 'France', 'West Germany', 'Belgium', 'Republic of Ireland', 'Argentina', 'Argentina', 'West Germany', 'Bulgaria', 'Sweden', 'Brazil', 'Argentina', 'France', 'Brazil', 'Spain', 'South Korea', 'Ukraine', 'Germany', 'Portugal', 'Italy', 'Paraguay', 'Uruguay', 'Brazil', 'Costa Rica', 'Netherlands', 'Argentina', 'Russia', 'Croatia', 'England', 'Croatia'], 'losers': ['France', 'Brazil', 'Mexico', 'Spain', 'Romania', 'Yugoslavia', 'Italy', 'England', 'Mexico', 'Romania', 'Italy', 'England', 'Italy', 'Netherlands', 'Republic of Ireland', 'Spain', 'Switzerland', 'Argentina', 'England', 'France', 'Japan', 'Ghana', 'Chile', 'Greece', 'Costa Rica', 'Netherlands', 'Spain', 'Denmark', 'Colombia', 'Russia'], 'gameID': [1, 2, 3, 4, 5, 6, 7, 8, 9, 10, 11, 12, 13, 14, 15, 16, 17, 18, 19, 20, 21, 22, 23, 24, 25, 26, 27, 28, 29, 30], 'finalScoreGoalsEach': ['3', '1', '0', '1', '0', '0', '1', '1', '1', '2', '0', '2', '0', '1', '1', '0', '0', '1', '0', '1', '0', '1', '1', '1', '0', '0', '1', '1', '1', '2']}\n"
     ]
    }
   ],
   "source": [
    "print(d)"
   ]
  },
  {
   "cell_type": "code",
   "execution_count": 169,
   "metadata": {},
   "outputs": [],
   "source": [
    "def penKickers(row, splitToKeep):\n",
    "    kickers = []\n",
    "    for i in range(len(row[1:])):\n",
    "        kicker = row[i+1].split('title=\"')[splitToKeep].split('\"')[0]\n",
    "        \n",
    "        #some names showing as \"Willian (footballer, born 1988)\" so clipping off \"(footballer...\"\n",
    "        kicker = kicker.split(' (')[0]\n",
    "        kickers.append(kicker)\n",
    "        \n",
    "    return kickers\n",
    "\n",
    "def penResults(row):\n",
    "    results = []\n",
    "    for i in range(len(row[1:])):\n",
    "        if 'Penalty scored' in row[i+1]:\n",
    "            results.append(1)\n",
    "        else:\n",
    "            results.append(0)\n",
    "    return results"
   ]
  },
  {
   "cell_type": "code",
   "execution_count": 170,
   "metadata": {},
   "outputs": [
    {
     "data": {
      "text/plain": [
       "[{'kickers': ['Manfred Kaltz',\n",
       "   'Paul Breitner',\n",
       "   'Uli Stielike',\n",
       "   'Pierre Littbarski',\n",
       "   'Karl-Heinz Rummenigge',\n",
       "   'Horst Hrubesch'],\n",
       "  'results': [1, 1, 0, 1, 1, 1]},\n",
       " {'kickers': ['Yannick Stopyra',\n",
       "   'Manuel Amoros',\n",
       "   'Bruno Bellone',\n",
       "   'Michel Platini',\n",
       "   'Luis Fernández'],\n",
       "  'results': [1, 1, 1, 0, 1]},\n",
       " {'kickers': ['Klaus Allofs',\n",
       "   'Andreas Brehme',\n",
       "   'Lothar Matthäus',\n",
       "   'Pierre Littbarski'],\n",
       "  'results': [1, 1, 1, 1]},\n",
       " {'kickers': ['Nico Claesen',\n",
       "   'Enzo Scifo',\n",
       "   'Hugo Broos',\n",
       "   'Patrick Vervoort',\n",
       "   'Leo Van der Elst'],\n",
       "  'results': [1, 1, 1, 1, 1]},\n",
       " {'kickers': ['Kevin Sheedy',\n",
       "   'Ray Houghton',\n",
       "   'Andy Townsend',\n",
       "   'Tony Cascarino',\n",
       "   \"David O'Leary\"],\n",
       "  'results': [1, 1, 1, 1, 1]},\n",
       " {'kickers': ['José Serrizuela',\n",
       "   'Jorge Burruchaga',\n",
       "   'Diego Maradona',\n",
       "   'Pedro Troglio',\n",
       "   'Gustavo Dezotti'],\n",
       "  'results': [1, 1, 0, 0, 1]},\n",
       " {'kickers': ['José Serrizuela',\n",
       "   'Jorge Burruchaga',\n",
       "   'Julio Olarticoechea',\n",
       "   'Diego Maradona'],\n",
       "  'results': [1, 1, 1, 1]},\n",
       " {'kickers': ['Andreas Brehme',\n",
       "   'Lothar Matthäus',\n",
       "   'Karl-Heinz Riedle',\n",
       "   'Olaf Thon'],\n",
       "  'results': [1, 1, 1, 1]},\n",
       " {'kickers': ['Krasimir Balakov',\n",
       "   'Boncho Genchev',\n",
       "   'Daniel Borimirov',\n",
       "   'Yordan Letchkov'],\n",
       "  'results': [0, 1, 1, 1]},\n",
       " {'kickers': ['Håkan Mild',\n",
       "   'Kennet Andersson',\n",
       "   'Tomas Brolin',\n",
       "   'Klas Ingesson',\n",
       "   'Roland Nilsson',\n",
       "   'Henrik Larsson'],\n",
       "  'results': [0, 1, 1, 1, 1, 1]},\n",
       " {'kickers': ['Márcio Santos', 'Romário', 'Branco', 'Dunga'],\n",
       "  'results': [0, 1, 1, 1]},\n",
       " {'kickers': ['Sergio Berti',\n",
       "   'Hernán Crespo',\n",
       "   'Juan Sebastián Verón',\n",
       "   'Marcelo Gallardo',\n",
       "   'Roberto Ayala'],\n",
       "  'results': [1, 0, 1, 1, 1]},\n",
       " {'kickers': ['Zinedine Zidane',\n",
       "   'Bixente Lizarazu',\n",
       "   'David Trezeguet',\n",
       "   'Thierry Henry',\n",
       "   'Laurent Blanc'],\n",
       "  'results': [1, 0, 1, 1, 1]},\n",
       " {'kickers': ['Ronaldo', 'Rivaldo', 'Emerson', 'Dunga'],\n",
       "  'results': [1, 1, 1, 1]},\n",
       " {'kickers': ['Fernando Hierro',\n",
       "   'Rubén Baraja',\n",
       "   'Juanfran',\n",
       "   'Juan Carlos Valerón',\n",
       "   'Gaizka Mendieta'],\n",
       "  'results': [1, 1, 0, 0, 1]},\n",
       " {'kickers': ['Hwang Sun-hong',\n",
       "   'Park Ji-sung',\n",
       "   'Seol Ki-hyeon',\n",
       "   'Ahn Jung-hwan',\n",
       "   'Hong Myung-bo'],\n",
       "  'results': [1, 1, 1, 1, 1]},\n",
       " {'kickers': ['Andriy Shevchenko',\n",
       "   'Artem Milevskiy',\n",
       "   'Serhiy Rebrov',\n",
       "   'Oleh Husyev'],\n",
       "  'results': [0, 1, 1, 1]},\n",
       " {'kickers': ['Oliver Neuville',\n",
       "   'Michael Ballack',\n",
       "   'Lukas Podolski',\n",
       "   'Tim Borowski'],\n",
       "  'results': [1, 1, 1, 1]},\n",
       " {'kickers': ['Simão Sabrosa',\n",
       "   'Hugo Viana',\n",
       "   'Petit',\n",
       "   'Hélder Postiga',\n",
       "   'Cristiano Ronaldo'],\n",
       "  'results': [1, 0, 0, 1, 1]},\n",
       " {'kickers': ['Andrea Pirlo',\n",
       "   'Marco Materazzi',\n",
       "   'Daniele De Rossi',\n",
       "   'Alessandro Del Piero',\n",
       "   'Fabio Grosso'],\n",
       "  'results': [1, 1, 1, 1, 1]},\n",
       " {'kickers': ['Édgar Barreto',\n",
       "   'Lucas Barrios',\n",
       "   'Cristian Riveros',\n",
       "   'Nelson Valdez',\n",
       "   'Óscar Cardozo'],\n",
       "  'results': [1, 1, 1, 1, 1]},\n",
       " {'kickers': ['Diego Forlán',\n",
       "   'Mauricio Victorino',\n",
       "   'Andrés Scotti',\n",
       "   'Maxi Pereira',\n",
       "   'Sebastián Abreu'],\n",
       "  'results': [1, 1, 1, 0, 1]},\n",
       " {'kickers': ['David Luiz', 'Willian', 'Marcelo', 'Hulk', 'Neymar'],\n",
       "  'results': [1, 0, 1, 0, 1]},\n",
       " {'kickers': ['Celso Borges',\n",
       "   'Bryan Ruiz',\n",
       "   'Giancarlo González',\n",
       "   'Joel Campbell',\n",
       "   'Michael Umaña'],\n",
       "  'results': [1, 1, 1, 1, 1]},\n",
       " {'kickers': ['Robin van Persie',\n",
       "   'Arjen Robben',\n",
       "   'Wesley Sneijder',\n",
       "   'Dirk Kuyt'],\n",
       "  'results': [1, 1, 1, 1]},\n",
       " {'kickers': ['Lionel Messi',\n",
       "   'Ezequiel Garay',\n",
       "   'Sergio Agüero',\n",
       "   'Maxi Rodríguez'],\n",
       "  'results': [1, 1, 1, 1]},\n",
       " {'kickers': ['Fyodor Smolov',\n",
       "   'Sergei Ignashevich',\n",
       "   'Aleksandr Golovin',\n",
       "   'Denis Cheryshev'],\n",
       "  'results': [1, 1, 1, 1]},\n",
       " {'kickers': ['Milan Badelj',\n",
       "   'Andrej Kramarić',\n",
       "   'Luka Modrić',\n",
       "   'Josip Pivarić',\n",
       "   'Ivan Rakitić'],\n",
       "  'results': [0, 1, 1, 0, 1]},\n",
       " {'kickers': ['Harry Kane',\n",
       "   'Marcus Rashford',\n",
       "   'Jordan Henderson',\n",
       "   'Kieran Trippier',\n",
       "   'Eric Dier'],\n",
       "  'results': [1, 1, 0, 1, 1]},\n",
       " {'kickers': ['Marcelo Brozović',\n",
       "   'Mateo Kovačić',\n",
       "   'Luka Modrić',\n",
       "   'Domagoj Vida',\n",
       "   'Ivan Rakitić'],\n",
       "  'results': [1, 0, 1, 1, 1]}]"
      ]
     },
     "execution_count": 170,
     "metadata": {},
     "output_type": "execute_result"
    }
   ],
   "source": [
    "d['winnerPenalties'] = []\n",
    "for i in range(len(rows)):\n",
    "    cells = rows[i].find_all('td')\n",
    "    if cells: #need test as the two header rows would cause an error when trying to split\n",
    "        convertedRow = str(cells[7]).split('<span class=\"nowrap\">')\n",
    "        \n",
    "        d['winnerPenalties'].append({})\n",
    "        d['winnerPenalties'][i-2]['kickers'] = penKickers(convertedRow, 1)\n",
    "        d['winnerPenalties'][i-2]['results'] = penResults(convertedRow)\n",
    "\n",
    "d['winnerPenalties']"
   ]
  },
  {
   "cell_type": "code",
   "execution_count": 171,
   "metadata": {},
   "outputs": [
    {
     "data": {
      "text/plain": [
       "[{'kickers': ['Alain Giresse',\n",
       "   'Manuel Amoros',\n",
       "   'Dominique Rocheteau',\n",
       "   'Didier Six',\n",
       "   'Michel Platini',\n",
       "   'Maxime Bossis'],\n",
       "  'results': [1, 1, 1, 0, 1, 0]},\n",
       " {'kickers': ['Sócrates', 'Alemão', 'Zico', 'Branco', 'Júlio César'],\n",
       "  'results': [0, 1, 1, 1, 0]},\n",
       " {'kickers': ['Manuel Negrete Arias', 'Fernando Quirarte', 'Raúl Servín'],\n",
       "  'results': [1, 0, 0]},\n",
       " {'kickers': ['Juan Antonio Señor',\n",
       "   'Eloy Olaya',\n",
       "   'Chendo',\n",
       "   'Emilio Butragueño',\n",
       "   'Víctor Muñoz'],\n",
       "  'results': [1, 0, 1, 1, 1]},\n",
       " {'kickers': ['Gheorghe Hagi',\n",
       "   'Dănuț Lupu',\n",
       "   'Iosif Rotariu',\n",
       "   'Ioan Lupescu',\n",
       "   'Daniel Timofte'],\n",
       "  'results': [1, 1, 1, 1, 0]},\n",
       " {'kickers': ['Dragan Stojković',\n",
       "   'Robert Prosinečki',\n",
       "   'Dejan Savićević',\n",
       "   'Dragoljub Brnović',\n",
       "   'Faruk Hadžibegić'],\n",
       "  'results': [0, 1, 1, 0, 0]},\n",
       " {'kickers': ['Franco Baresi',\n",
       "   'Roberto Baggio',\n",
       "   'Luigi De Agostini',\n",
       "   'Roberto Donadoni',\n",
       "   'Aldo Serena'],\n",
       "  'results': [1, 1, 1, 0, 0]},\n",
       " {'kickers': ['Gary Lineker',\n",
       "   'Peter Beardsley',\n",
       "   'David Platt',\n",
       "   'Stuart Pearce',\n",
       "   'Chris Waddle'],\n",
       "  'results': [1, 1, 1, 0, 0]},\n",
       " {'kickers': ['Alberto García Aspe',\n",
       "   'Marcelino Bernal',\n",
       "   'Jorge Rodríguez',\n",
       "   'Claudio Suárez'],\n",
       "  'results': [0, 0, 0, 1]},\n",
       " {'kickers': ['Florin Răducioiu',\n",
       "   'Gheorghe Hagi',\n",
       "   'Ioan Lupescu',\n",
       "   'Dan Petrescu',\n",
       "   'Ilie Dumitrescu',\n",
       "   'Miodrag Belodedici'],\n",
       "  'results': [1, 1, 1, 0, 1, 0]},\n",
       " {'kickers': ['Franco Baresi',\n",
       "   'Demetrio Albertini',\n",
       "   'Alberigo Evani',\n",
       "   'Daniele Massaro',\n",
       "   'Roberto Baggio'],\n",
       "  'results': [0, 1, 1, 0, 0]},\n",
       " {'kickers': ['Alan Shearer',\n",
       "   'Paul Ince',\n",
       "   'Paul Merson',\n",
       "   'Michael Owen',\n",
       "   'David Batty'],\n",
       "  'results': [1, 0, 1, 1, 0]},\n",
       " {'kickers': ['Roberto Baggio',\n",
       "   'Demetrio Albertini',\n",
       "   'Alessandro Costacurta',\n",
       "   'Christian Vieri',\n",
       "   'Luigi Di Biagio'],\n",
       "  'results': [1, 0, 1, 1, 0]},\n",
       " {'kickers': ['Frank de Boer',\n",
       "   'Dennis Bergkamp',\n",
       "   'Phillip Cocu',\n",
       "   'Ronald de Boer'],\n",
       "  'results': [1, 1, 0, 0]},\n",
       " {'kickers': ['Robbie Keane',\n",
       "   'Matt Holland',\n",
       "   'David Connolly',\n",
       "   'Kevin Kilbane',\n",
       "   'Steve Finnan'],\n",
       "  'results': [1, 0, 0, 0, 1]},\n",
       " {'kickers': ['Fernando Hierro', 'Rubén Baraja', 'Xavi', 'Joaquín'],\n",
       "  'results': [1, 1, 1, 0]},\n",
       " {'kickers': ['Marco Streller', 'Tranquillo Barnetta', 'Ricardo Cabanas'],\n",
       "  'results': [0, 0, 0]},\n",
       " {'kickers': ['Julio Ricardo Cruz',\n",
       "   'Roberto Ayala',\n",
       "   'Maxi Rodríguez',\n",
       "   'Esteban Cambiasso'],\n",
       "  'results': [1, 0, 1, 0]},\n",
       " {'kickers': ['Frank Lampard',\n",
       "   'Owen Hargreaves',\n",
       "   'Steven Gerrard',\n",
       "   'Jamie Carragher'],\n",
       "  'results': [0, 1, 0, 0]},\n",
       " {'kickers': ['Sylvain Wiltord',\n",
       "   'David Trezeguet',\n",
       "   'Éric Abidal',\n",
       "   'Willy Sagnol'],\n",
       "  'results': [1, 0, 1, 1]},\n",
       " {'kickers': ['Yasuhito Endō',\n",
       "   'Makoto Hasebe',\n",
       "   'Yūichi Komano',\n",
       "   'Keisuke Honda'],\n",
       "  'results': [1, 1, 0, 1]},\n",
       " {'kickers': ['Asamoah Gyan',\n",
       "   'Stephen Appiah',\n",
       "   'John Mensah',\n",
       "   'Dominic Adiyiah'],\n",
       "  'results': [1, 1, 0, 0]},\n",
       " {'kickers': ['Mauricio Pinilla',\n",
       "   'Alexis Sánchez',\n",
       "   'Charles Aránguiz',\n",
       "   'Marcelo Díaz',\n",
       "   'Gonzalo Jara'],\n",
       "  'results': [0, 0, 1, 1, 0]},\n",
       " {'kickers': ['Konstantinos Mitroglou',\n",
       "   'Lazaros Christodoulopoulos',\n",
       "   'José Holebas',\n",
       "   'Theofanis Gekas'],\n",
       "  'results': [1, 1, 1, 0]},\n",
       " {'kickers': ['Celso Borges',\n",
       "   'Bryan Ruiz',\n",
       "   'Giancarlo González',\n",
       "   'Christian Bolaños',\n",
       "   'Michael Umaña'],\n",
       "  'results': [1, 0, 1, 1, 0]},\n",
       " {'kickers': ['Ron Vlaar', 'Arjen Robben', 'Wesley Sneijder', 'Dirk Kuyt'],\n",
       "  'results': [0, 1, 0, 1]},\n",
       " {'kickers': ['Andrés Iniesta',\n",
       "   'Gerard Piqué',\n",
       "   'Koke',\n",
       "   'Sergio Ramos',\n",
       "   'Iago Aspas'],\n",
       "  'results': [1, 1, 0, 1, 0]},\n",
       " {'kickers': ['Christian Eriksen',\n",
       "   'Simon Kjær',\n",
       "   'Michael Krohn-Dehli',\n",
       "   'Lasse Schöne',\n",
       "   'Nicolai Jørgensen'],\n",
       "  'results': [0, 1, 1, 0, 0]},\n",
       " {'kickers': ['Radamel Falcao',\n",
       "   'Juan Cuadrado',\n",
       "   'Luis Muriel',\n",
       "   'Mateus Uribe',\n",
       "   'Carlos Bacca'],\n",
       "  'results': [1, 1, 1, 0, 0]},\n",
       " {'kickers': ['Fyodor Smolov',\n",
       "   'Alan Dzagoev',\n",
       "   'Mário Fernandes',\n",
       "   'Sergei Ignashevich',\n",
       "   'Daler Kuzyayev'],\n",
       "  'results': [0, 1, 0, 1, 1]}]"
      ]
     },
     "execution_count": 171,
     "metadata": {},
     "output_type": "execute_result"
    }
   ],
   "source": [
    "d['loserPenalties'] = []\n",
    "for i in range(len(rows)):\n",
    "    cells = rows[i].find_all('td')\n",
    "    if cells: #need test as the two header rows would cause an error when trying to split\n",
    "        convertedRow = str(cells[8]).split('<span class=\"nowrap\">')\n",
    "        #print(convertedRow)\n",
    "        d['loserPenalties'].append({})\n",
    "        d['loserPenalties'][i-2]['kickers'] = penKickers(convertedRow, 2)\n",
    "        d['loserPenalties'][i-2]['results'] = penResults(convertedRow)\n",
    "\n",
    "d['loserPenalties']"
   ]
  },
  {
   "cell_type": "code",
   "execution_count": 193,
   "metadata": {},
   "outputs": [
    {
     "name": "stdout",
     "output_type": "stream",
     "text": [
      "[0, 0, 1, 0, 0, 1, 0, 0, 0, 1, 0, 1, 1, 1, 0, 1, 1, 1, 1, 1, 1, 1, 1, 1, 0, 0, 0, 0, 0, 0]\n"
     ]
    }
   ],
   "source": [
    "#if team won it's first player will be highlighted with a grey background so test if \n",
    "#that color's tag is in the cell\n",
    "\n",
    "d['winnerTookFirstPenalty'] = []\n",
    "for i in range(len(rows)):\n",
    "    cells = rows[i].find_all('td')\n",
    "    if cells: #need test as the two header rows would cause an error when trying to split\n",
    "        if 'background-color: #C3C3C3' in str(cells[7]):\n",
    "            d['winnerTookFirstPenalty'].append(1)\n",
    "        else:\n",
    "            d['winnerTookFirstPenalty'].append(0)\n",
    "        \n",
    "print(d['winnerTookFirstPenalty'])"
   ]
  },
  {
   "cell_type": "code",
   "execution_count": 223,
   "metadata": {},
   "outputs": [
    {
     "name": "stdout",
     "output_type": "stream",
     "text": [
      "<td rowspan=\"3\"><a href=\"/wiki/1986_FIFA_World_Cup\" title=\"1986 FIFA World Cup\">1986, Mexico</a>\n",
      "</td>\n"
     ]
    }
   ],
   "source": [
    "for i in range(2, len(rows)):\n",
    "    cells = rows[3].find_all('td')\n",
    "    print(str(cells[10])) #[:-1] to get rid of '\\n' at end of string\n",
    "    break"
   ]
  },
  {
   "cell_type": "code",
   "execution_count": 245,
   "metadata": {},
   "outputs": [
    {
     "name": "stdout",
     "output_type": "stream",
     "text": [
      "[1982, 1986, 1986, 1986, 1990, 1990, 1990, 1990, 1994, 1994, 1994, 1998, 1998, 1998, 2002, 2002, 2006, 2006, 2006, 2006, 2010, 2010, 2014, 2014, 2014, 2014, 2018, 2018, 2018, 2018]\n",
      "['Spain', 'Mexico', 'Mexico', 'Mexico', 'Italy', 'Italy', 'Italy', 'Italy', 'USA', 'USA', 'USA', 'France', 'France', 'France', 'Korea/Japan', 'Korea/Japan', 'Germany', 'Germany', 'Germany', 'Germany', 'South Africa', 'South Africa', 'Brazil', 'Brazil', 'Brazil', 'Brazil', 'Russia', 'Russia', 'Russia', 'Russia']\n"
     ]
    }
   ],
   "source": [
    "d['year'] = []\n",
    "d['hostCountry'] = []\n",
    "\n",
    "i = 2 #skip rows 0 and 1 as they're headers\n",
    "loopAgain = True\n",
    "while loopAgain:\n",
    "    cell = rows[i].find_all('td')[10]\n",
    "    yearAndLocationSplit = cell.text[:-1].split(', ') #[:-1] to strip '\\n' off end\n",
    "    \n",
    "    d['year'].append(int(yearAndLocationSplit[0]))\n",
    "    d['hostCountry'].append(yearAndLocationSplit[1])\n",
    "    \n",
    "    i += 1\n",
    "    \n",
    "    #deal with cells that span multiple rows.\n",
    "    if \"rowspan\" in str(cell):\n",
    "        extraloops = int(str(cell).split('\"')[1]) - 1 #-1 as already done one loop above\n",
    "        for j in range(extraloops):\n",
    "            d['year'].append(int(yearAndLocationSplit[0]))\n",
    "            d['hostCountry'].append(yearAndLocationSplit[1])\n",
    "            i += 1\n",
    "    \n",
    "    if i>=len(rows):\n",
    "        loopAgain = False\n",
    "        \n",
    "print(d['year'])\n",
    "print(d['hostCountry'])"
   ]
  },
  {
   "cell_type": "code",
   "execution_count": null,
   "metadata": {},
   "outputs": [],
   "source": []
  },
  {
   "cell_type": "code",
   "execution_count": 232,
   "metadata": {},
   "outputs": [],
   "source": []
  }
 ],
 "metadata": {
  "kernelspec": {
   "display_name": "Python 3",
   "language": "python",
   "name": "python3"
  },
  "language_info": {
   "codemirror_mode": {
    "name": "ipython",
    "version": 3
   },
   "file_extension": ".py",
   "mimetype": "text/x-python",
   "name": "python",
   "nbconvert_exporter": "python",
   "pygments_lexer": "ipython3",
   "version": "3.6.2"
  }
 },
 "nbformat": 4,
 "nbformat_minor": 2
}
